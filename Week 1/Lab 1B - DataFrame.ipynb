{
 "cells": [
  {
   "cell_type": "markdown",
   "metadata": {},
   "source": [
    "# DataFrame"
   ]
  },
  {
   "cell_type": "code",
   "execution_count": 21,
   "metadata": {
    "collapsed": true
   },
   "outputs": [],
   "source": [
    "#import the packages \"Pandas\" and \"MatPlotLib\" into Jupyter Notebook\n",
    "import pandas as pd\n",
    "import matplotlib.pyplot as plt\n",
    "%matplotlib inline"
   ]
  },
  {
   "cell_type": "code",
   "execution_count": 22,
   "metadata": {
    "collapsed": true
   },
   "outputs": [],
   "source": [
    "#import Facebook's stock data\n",
    "fb = pd.DataFrame.from_csv('../data/facebook.csv')"
   ]
  },
  {
   "cell_type": "code",
   "execution_count": 23,
   "metadata": {},
   "outputs": [
    {
     "name": "stdout",
     "output_type": "stream",
     "text": [
      "                 Open       High        Low      Close  Adj Close   Volume\n",
      "Date                                                                      \n",
      "2014-12-31  20.400000  20.510000  19.990000  20.049999  19.459270  4157500\n",
      "2015-01-02  20.129999  20.280001  19.809999  20.129999  19.536913  2842000\n",
      "2015-01-05  20.129999  20.190001  19.700001  19.790001  19.206934  4948800\n",
      "2015-01-06  19.820000  19.840000  19.170000  19.190001  18.624611  4944100\n",
      "2015-01-07  19.330000  19.500000  19.080000  19.139999  18.576082  8045200\n"
     ]
    }
   ],
   "source": [
    "print(fb.head())"
   ]
  },
  {
   "cell_type": "code",
   "execution_count": 24,
   "metadata": {},
   "outputs": [],
   "source": [
    "#It is your turn to import Microsoft's stock data - \"microsoft.csv\", which is located in the same folder of facebook.csv\n",
    "#Replace \"None\" with your code\n",
    "ms = pd.DataFrame.from_csv('../data/microsoft.csv')"
   ]
  },
  {
   "cell_type": "code",
   "execution_count": 25,
   "metadata": {},
   "outputs": [
    {
     "name": "stdout",
     "output_type": "stream",
     "text": [
      "                 Open       High        Low      Close  Adj Close    Volume\n",
      "Date                                                                       \n",
      "2014-12-31  46.730000  47.439999  46.450001  46.450001  42.848763  21552500\n",
      "2015-01-02  46.660000  47.419998  46.540001  46.759998  43.134731  27913900\n",
      "2015-01-05  46.369999  46.730000  46.250000  46.330002  42.738068  39673900\n",
      "2015-01-06  46.380001  46.750000  45.540001  45.650002  42.110783  36447900\n",
      "2015-01-07  45.980000  46.459999  45.490002  46.230000  42.645817  29114100\n"
     ]
    }
   ],
   "source": [
    "print(ms.head())"
   ]
  },
  {
   "cell_type": "markdown",
   "metadata": {},
   "source": [
    "** Expected Output: **"
   ]
  },
  {
   "cell_type": "markdown",
   "metadata": {},
   "source": [
    "<tr>\n",
    "    <th>Date</th>\n",
    "    <th>Open</th>  \n",
    "    <th>High</th>\n",
    "    <th>Low</th>\n",
    "    <th>Close</th>\n",
    "    <th>Adj Close</th>\n",
    "    <th>Volume</th>\n",
    "</tr>\n",
    "<tr>\n",
    "    <td>2014-12-31</td>\n",
    "    <td>46.730000</td>  \n",
    "    <td>47.439999</td>\n",
    "    <td>46.450001</td>\n",
    "    <td>46.450001</td>\n",
    "    <td>42.848763</td>\n",
    "    <td>21552500</td>\n",
    "</tr>\n",
    "<tr>\n",
    "    <td>2015-01-02</td>\n",
    "    <td>46.660000</td>  \n",
    "    <td>47.419998</td>\n",
    "    <td>46.540001</td>\n",
    "    <td>46.759998</td>\n",
    "    <td>43.134731</td>\n",
    "    <td>27913900</td>\n",
    "</tr>\n",
    "<tr>\n",
    "    <td>2015-01-05</td>\n",
    "    <td>46.369999</td>  \n",
    "    <td>46.730000</td>\n",
    "    <td>46.250000</td>\n",
    "    <td>46.330002</td>\n",
    "    <td>42.738068</td>\n",
    "    <td>39673900</td>\n",
    "</tr>\n",
    "<tr>\n",
    "    <td>2015-01-06</td>\n",
    "    <td>46.380001</td>  \n",
    "    <td>46.750000</td>\n",
    "    <td>45.540001</td>\n",
    "    <td>45.650002</td>\n",
    "    <td>42.110783</td>\n",
    "    <td>36447900</td>\n",
    "</tr>\n",
    "<tr>\n",
    "    <td>2015-01-07</td>\n",
    "    <td>45.980000</td>  \n",
    "    <td>46.459999</td>\n",
    "    <td>45.490002</td>\n",
    "    <td>46.230000</td>\n",
    "    <td>42.645817</td>\n",
    "    <td>29114100</td>\n",
    "</tr>\n"
   ]
  },
  {
   "cell_type": "markdown",
   "metadata": {},
   "source": [
    "## Show the size of a DataFrame using \"Shape\""
   ]
  },
  {
   "cell_type": "code",
   "execution_count": 26,
   "metadata": {},
   "outputs": [
    {
     "name": "stdout",
     "output_type": "stream",
     "text": [
      "(780, 6)\n"
     ]
    }
   ],
   "source": [
    "print(fb.shape)"
   ]
  },
  {
   "cell_type": "code",
   "execution_count": 27,
   "metadata": {},
   "outputs": [
    {
     "name": "stdout",
     "output_type": "stream",
     "text": [
      "(780, 6)\n"
     ]
    }
   ],
   "source": [
    "# print the shape of ms, 1 line\n",
    "print(ms.shape)"
   ]
  },
  {
   "cell_type": "markdown",
   "metadata": {},
   "source": [
    "## Show summary statistics of a DataFrame"
   ]
  },
  {
   "cell_type": "code",
   "execution_count": 28,
   "metadata": {},
   "outputs": [
    {
     "name": "stdout",
     "output_type": "stream",
     "text": [
      "             Open        High         Low       Close   Adj Close  \\\n",
      "count  780.000000  780.000000  780.000000  780.000000  780.000000   \n",
      "mean    80.212705   81.285654   79.022397   80.264897   79.914215   \n",
      "std     64.226121   65.048907   63.190963   64.198375   64.327846   \n",
      "min     19.250000   19.500000   18.940001   19.139999   18.576082   \n",
      "25%     25.525000   26.085000   24.845000   25.475000   25.134513   \n",
      "50%     53.379999   54.034999   52.930000   53.420000   53.035403   \n",
      "75%    113.322502  115.779999  110.297499  113.702501  113.261238   \n",
      "max    245.770004  249.270004  244.449997  246.850006  246.850006   \n",
      "\n",
      "             Volume  \n",
      "count  7.800000e+02  \n",
      "mean   1.204453e+07  \n",
      "std    8.221848e+06  \n",
      "min    1.311200e+06  \n",
      "25%    7.215200e+06  \n",
      "50%    9.728700e+06  \n",
      "75%    1.408885e+07  \n",
      "max    9.232320e+07  \n"
     ]
    }
   ],
   "source": [
    "# print summary statistics of Facebook\n",
    "print(fb.describe())"
   ]
  },
  {
   "cell_type": "code",
   "execution_count": 29,
   "metadata": {},
   "outputs": [
    {
     "name": "stdout",
     "output_type": "stream",
     "text": [
      "             Open        High         Low       Close   Adj Close  \\\n",
      "count  780.000000  780.000000  780.000000  780.000000  780.000000   \n",
      "mean    58.912308   59.372308   58.465000   58.945397   56.931553   \n",
      "std     12.852040   12.868060   12.802831   12.830350   13.670080   \n",
      "min     40.340000   40.740002   39.720001   40.290001   37.267815   \n",
      "25%     47.894998   48.295000   47.535001   47.974998   44.792073   \n",
      "50%     56.150002   56.640001   55.700001   56.209999   53.775458   \n",
      "75%     67.892500   68.174997   67.447500   67.740000   66.565508   \n",
      "max     95.139999   96.070000   93.720001   95.010002   94.565781   \n",
      "\n",
      "             Volume  \n",
      "count  7.800000e+02  \n",
      "mean   2.978900e+07  \n",
      "std    1.522319e+07  \n",
      "min    7.425600e+06  \n",
      "25%    2.096685e+07  \n",
      "50%    2.623125e+07  \n",
      "75%    3.408020e+07  \n",
      "max    1.691640e+08  \n"
     ]
    }
   ],
   "source": [
    "# print summary statistics of Microsoft\n",
    "print(ms.describe())"
   ]
  },
  {
   "cell_type": "markdown",
   "metadata": {},
   "source": [
    "## Locate a particular row of data using \"Selection by label\""
   ]
  },
  {
   "cell_type": "code",
   "execution_count": 30,
   "metadata": {},
   "outputs": [],
   "source": [
    "# select all the price information of Facebook in 2016.\n",
    "fb_2015 = fb.loc['2015-01-01':'2015-12-31']"
   ]
  },
  {
   "cell_type": "code",
   "execution_count": 31,
   "metadata": {},
   "outputs": [
    {
     "name": "stdout",
     "output_type": "stream",
     "text": [
      "Open         2.288000e+01\n",
      "High         2.311000e+01\n",
      "Low          2.273000e+01\n",
      "Close        2.297000e+01\n",
      "Adj Close    2.237908e+01\n",
      "Volume       5.923900e+06\n",
      "Name: 2015-03-16 00:00:00, dtype: float64\n"
     ]
    }
   ],
   "source": [
    "# print the price of Facebook on '2015-03-16'\n",
    "print(fb_2015.loc['2015-03-16'])"
   ]
  },
  {
   "cell_type": "code",
   "execution_count": 32,
   "metadata": {},
   "outputs": [
    {
     "name": "stdout",
     "output_type": "stream",
     "text": [
      "                 Open       High        Low      Close  Adj Close     Volume\n",
      "Date                                                                        \n",
      "2015-01-02  46.660000  47.419998  46.540001  46.759998  43.134731   27913900\n",
      "2015-01-05  46.369999  46.730000  46.250000  46.330002  42.738068   39673900\n",
      "2015-01-06  46.380001  46.750000  45.540001  45.650002  42.110783   36447900\n",
      "2015-01-07  45.980000  46.459999  45.490002  46.230000  42.645817   29114100\n",
      "2015-01-08  46.750000  47.750000  46.720001  47.590000  43.900375   29645200\n",
      "2015-01-09  47.610001  47.820000  46.900002  47.189999  43.531395   23942800\n",
      "2015-01-12  47.419998  47.540001  46.360001  46.599998  42.987129   23651900\n",
      "2015-01-13  46.970001  47.910000  46.060001  46.360001  42.765747   35270600\n",
      "2015-01-14  45.959999  46.240002  45.619999  45.959999  42.396751   29719600\n",
      "2015-01-15  46.220001  46.380001  45.410000  45.480000  41.953960   32750800\n",
      "2015-01-16  45.310001  46.279999  45.169998  46.240002  42.655041   35695300\n",
      "2015-01-20  46.299999  46.650002  45.570000  46.389999  42.793415   36041400\n",
      "2015-01-21  45.939999  46.139999  45.480000  45.919998  42.359848   39081100\n",
      "2015-01-22  46.380001  47.139999  46.080002  47.130001  43.476044   35898000\n",
      "2015-01-23  47.360001  47.389999  46.799999  47.180000  43.522167   26047800\n",
      "2015-01-26  47.000000  47.130001  46.240002  47.009998  43.365345   42525500\n",
      "2015-01-27  42.950001  43.200001  42.110001  42.660000  39.352604  169164000\n",
      "2015-01-28  42.740002  42.790001  41.160000  41.189999  37.996563   84507100\n",
      "2015-01-29  40.930000  42.119999  40.790001  42.009998  38.752987   63585300\n",
      "2015-01-30  41.549999  41.580002  40.349998  40.400002  37.267815   78004900\n",
      "2015-02-02  40.590000  41.369999  40.230000  41.279999  38.079586   50352500\n",
      "2015-02-03  41.630001  41.930000  41.049999  41.599998  38.374779   51890200\n",
      "2015-02-04  41.939999  42.209999  41.360001  41.840000  38.596184   41614800\n",
      "2015-02-05  42.220001  42.639999  41.860001  42.450001  39.158878   36548200\n",
      "2015-02-06  42.680000  42.790001  42.150002  42.410000  39.121983   34311700\n",
      "2015-02-09  42.240002  42.740002  42.209999  42.360001  39.075859   31381100\n",
      "2015-02-10  42.740002  42.770000  42.180000  42.599998  39.297249   29670700\n",
      "2015-02-11  42.650002  42.650002  42.209999  42.380001  39.094307   38262500\n",
      "2015-02-12  42.660000  43.090000  42.509998  43.090000  39.749268   33268800\n",
      "2015-02-13  43.380001  43.869999  43.150002  43.869999  40.468792   40264900\n",
      "...               ...        ...        ...        ...        ...        ...\n",
      "2015-11-18  53.000000  53.980000  52.980000  53.849998  51.027382   29710000\n",
      "2015-11-19  53.990002  54.660000  53.779999  53.939999  51.112663   28149200\n",
      "2015-11-20  54.250000  54.299999  53.270000  54.189999  51.349560   37147600\n",
      "2015-11-23  54.250000  54.459999  53.750000  54.189999  51.349560   28235900\n",
      "2015-11-24  53.919998  54.439999  53.580002  54.250000  51.406422   24600000\n",
      "2015-11-25  54.090000  54.230000  53.689999  53.689999  50.875771   21005100\n",
      "2015-11-27  53.799999  54.080002  53.790001  53.930000  51.103188    9009100\n",
      "2015-11-30  54.540001  54.959999  54.000000  54.349998  51.501175   56241400\n",
      "2015-12-01  54.410000  55.230000  54.299999  55.220001  52.325581   39952800\n",
      "2015-12-02  55.320000  55.959999  55.060001  55.209999  52.316093   47274900\n",
      "2015-12-03  55.490002  55.770000  53.930000  54.200001  51.359039   38627800\n",
      "2015-12-04  54.119999  56.230000  54.099998  55.910000  52.979404   43963700\n",
      "2015-12-07  55.790001  55.970001  55.290001  55.810001  52.884647   30709800\n",
      "2015-12-08  55.470001  56.099998  54.990002  55.790001  52.865696   32878000\n",
      "2015-12-09  55.369999  55.869999  54.509998  54.980000  52.098156   36373200\n",
      "2015-12-10  55.389999  55.660000  55.009998  55.270000  52.372955   31620700\n",
      "2015-12-11  54.709999  55.099998  54.009998  54.060001  51.226376   39549500\n",
      "2015-12-14  54.330002  55.209999  53.680000  55.139999  52.249763   46768900\n",
      "2015-12-15  55.660000  55.900002  55.090000  55.200001  52.306625   39843000\n",
      "2015-12-16  55.540001  56.250000  54.759998  56.130001  53.187874   37503300\n",
      "2015-12-17  56.360001  56.790001  55.529999  55.700001  52.780415   41280900\n",
      "2015-12-18  55.770000  56.000000  54.029999  54.130001  51.292709   84684200\n",
      "2015-12-21  54.880001  55.349998  54.230000  54.830002  51.956020   37246300\n",
      "2015-12-22  54.990002  55.480000  54.500000  55.349998  52.448761   28300300\n",
      "2015-12-23  55.700001  55.880001  55.439999  55.820000  52.894127   27279800\n",
      "2015-12-24  55.860001  55.959999  55.430000  55.669998  52.751980    9570000\n",
      "2015-12-28  55.349998  55.950001  54.980000  55.950001  53.017315   21698000\n",
      "2015-12-29  56.290001  56.849998  56.060001  56.549999  53.585861   27731400\n",
      "2015-12-30  56.470001  56.779999  56.290001  56.310001  53.358444   21704500\n",
      "2015-12-31  56.040001  56.189999  55.419998  55.480000  52.571945   27334100\n",
      "\n",
      "[252 rows x 6 columns]\n"
     ]
    }
   ],
   "source": [
    "# select all the price information of Microsoft in 2016.\n",
    "ms_2015 = ms.loc['2015-01-01':'2015-12-31']\n",
    "print(ms_2015)"
   ]
  },
  {
   "cell_type": "code",
   "execution_count": 35,
   "metadata": {},
   "outputs": [
    {
     "name": "stdout",
     "output_type": "stream",
     "text": [
      "Open         4.147000e+01\n",
      "High         4.164000e+01\n",
      "Low          4.128000e+01\n",
      "Close        4.156000e+01\n",
      "Adj Close    3.861071e+01\n",
      "Volume       3.527350e+07\n",
      "Name: 2015-03-16 00:00:00, dtype: float64\n"
     ]
    }
   ],
   "source": [
    "# print the price of Microsoft on '2016-03-16'\n",
    "print(ms_2015.loc['2015-03-16'])"
   ]
  },
  {
   "cell_type": "markdown",
   "metadata": {},
   "source": [
    "** Expected Output: **"
   ]
  },
  {
   "cell_type": "markdown",
   "metadata": {},
   "source": [
    "<tr>\n",
    "    <td>Open</td>\n",
    "    <td>5.345000e+01</td>\n",
    "</tr>\n",
    "<tr>\n",
    "    <td>High</td>\n",
    "    <td>5.460000e+01</td>\n",
    "</tr>\n",
    "<tr>\n",
    "    <td>Low</td>\n",
    "    <td>5.340000e+01</td>\n",
    "</tr>\n",
    "<tr>\n",
    "    <td>Close</td>\n",
    "    <td>5.435000e+01</td>\n",
    "</tr>\n",
    "<tr>\n",
    "    <td>Adj Close</td>\n",
    "    <td>5.187095e+01</td>\n",
    "</tr>\n",
    "<tr>\n",
    "    <td>Volume</td>\n",
    "    <td>3.169170e+07</td>\n",
    "</tr>"
   ]
  },
  {
   "cell_type": "markdown",
   "metadata": {},
   "source": [
    "## Locate a particular row of data using \"Selection by position\""
   ]
  },
  {
   "cell_type": "code",
   "execution_count": null,
   "metadata": {},
   "outputs": [],
   "source": [
    "# print the opening price of the first row\n",
    "print(fb.iloc[0, 0])"
   ]
  },
  {
   "cell_type": "code",
   "execution_count": 37,
   "metadata": {},
   "outputs": [
    {
     "name": "stdout",
     "output_type": "stream",
     "text": [
      "90.559998\n"
     ]
    }
   ],
   "source": [
    "# print the opening price of the last row\n",
    "print(ms.iloc[-1,0])"
   ]
  },
  {
   "cell_type": "markdown",
   "metadata": {},
   "source": [
    "** Expected Output: ** 90.559998"
   ]
  },
  {
   "cell_type": "markdown",
   "metadata": {},
   "source": [
    "## Plot the stock data using plot() method"
   ]
  },
  {
   "cell_type": "code",
   "execution_count": 38,
   "metadata": {},
   "outputs": [
    {
     "data": {
      "image/png": "[encoded data removed]",
      "text/plain": [
       "<matplotlib.figure.Figure at 0x7fc20dad2c88>"
      ]
     },
     "metadata": {},
     "output_type": "display_data"
    }
   ],
   "source": [
    "plt.figure(figsize=(10, 8))\n",
    "fb['Close'].plot()\n",
    "plt.show()"
   ]
  },
  {
   "cell_type": "code",
   "execution_count": 48,
   "metadata": {},
   "outputs": [
    {
     "ename": "TypeError",
     "evalue": "unhashable type: 'slice'",
     "output_type": "error",
     "traceback": [
      "\u001b[0;31m---------------------------------------------------------------------------\u001b[0m",
      "\u001b[0;31mTypeError\u001b[0m                                 Traceback (most recent call last)",
      "\u001b[0;32m<ipython-input-48-86b089e9b56c>\u001b[0m in \u001b[0;36m<module>\u001b[0;34m()\u001b[0m\n\u001b[1;32m      1\u001b[0m \u001b[0mplt\u001b[0m\u001b[0;34m.\u001b[0m\u001b[0mfigure\u001b[0m\u001b[0;34m(\u001b[0m\u001b[0mfigsize\u001b[0m\u001b[0;34m=\u001b[0m\u001b[0;34m(\u001b[0m\u001b[0;36m10\u001b[0m\u001b[0;34m,\u001b[0m \u001b[0;36m8\u001b[0m\u001b[0;34m)\u001b[0m\u001b[0;34m)\u001b[0m\u001b[0;34m\u001b[0m\u001b[0m\n\u001b[1;32m      2\u001b[0m \u001b[0;31m# plot only the Close price of 2016 of Microsoft, 1 line\u001b[0m\u001b[0;34m\u001b[0m\u001b[0;34m\u001b[0m\u001b[0m\n\u001b[0;32m----> 3\u001b[0;31m \u001b[0mms\u001b[0m\u001b[0;34m[\u001b[0m\u001b[0;34m\"2016-01-01\"\u001b[0m\u001b[0;34m:\u001b[0m \u001b[0;34m\"2016-12-31\"\u001b[0m \u001b[0;34m,\u001b[0m\u001b[0;34m'Close'\u001b[0m\u001b[0;34m]\u001b[0m\u001b[0;34m.\u001b[0m\u001b[0mplot\u001b[0m\u001b[0;34m(\u001b[0m\u001b[0;34m)\u001b[0m\u001b[0;34m\u001b[0m\u001b[0m\n\u001b[0m\u001b[1;32m      4\u001b[0m \u001b[0mplt\u001b[0m\u001b[0;34m.\u001b[0m\u001b[0mshow\u001b[0m\u001b[0;34m(\u001b[0m\u001b[0;34m)\u001b[0m\u001b[0;34m\u001b[0m\u001b[0m\n",
      "\u001b[0;32m/opt/conda/lib/python3.6/site-packages/pandas/core/frame.py\u001b[0m in \u001b[0;36m__getitem__\u001b[0;34m(self, key)\u001b[0m\n\u001b[1;32m   2057\u001b[0m             \u001b[0;32mreturn\u001b[0m \u001b[0mself\u001b[0m\u001b[0;34m.\u001b[0m\u001b[0m_getitem_multilevel\u001b[0m\u001b[0;34m(\u001b[0m\u001b[0mkey\u001b[0m\u001b[0;34m)\u001b[0m\u001b[0;34m\u001b[0m\u001b[0m\n\u001b[1;32m   2058\u001b[0m         \u001b[0;32melse\u001b[0m\u001b[0;34m:\u001b[0m\u001b[0;34m\u001b[0m\u001b[0m\n\u001b[0;32m-> 2059\u001b[0;31m             \u001b[0;32mreturn\u001b[0m \u001b[0mself\u001b[0m\u001b[0;34m.\u001b[0m\u001b[0m_getitem_column\u001b[0m\u001b[0;34m(\u001b[0m\u001b[0mkey\u001b[0m\u001b[0;34m)\u001b[0m\u001b[0;34m\u001b[0m\u001b[0m\n\u001b[0m\u001b[1;32m   2060\u001b[0m \u001b[0;34m\u001b[0m\u001b[0m\n\u001b[1;32m   2061\u001b[0m     \u001b[0;32mdef\u001b[0m \u001b[0m_getitem_column\u001b[0m\u001b[0;34m(\u001b[0m\u001b[0mself\u001b[0m\u001b[0;34m,\u001b[0m \u001b[0mkey\u001b[0m\u001b[0;34m)\u001b[0m\u001b[0;34m:\u001b[0m\u001b[0;34m\u001b[0m\u001b[0m\n",
      "\u001b[0;32m/opt/conda/lib/python3.6/site-packages/pandas/core/frame.py\u001b[0m in \u001b[0;36m_getitem_column\u001b[0;34m(self, key)\u001b[0m\n\u001b[1;32m   2064\u001b[0m         \u001b[0;31m# get column\u001b[0m\u001b[0;34m\u001b[0m\u001b[0;34m\u001b[0m\u001b[0m\n\u001b[1;32m   2065\u001b[0m         \u001b[0;32mif\u001b[0m \u001b[0mself\u001b[0m\u001b[0;34m.\u001b[0m\u001b[0mcolumns\u001b[0m\u001b[0;34m.\u001b[0m\u001b[0mis_unique\u001b[0m\u001b[0;34m:\u001b[0m\u001b[0;34m\u001b[0m\u001b[0m\n\u001b[0;32m-> 2066\u001b[0;31m             \u001b[0;32mreturn\u001b[0m \u001b[0mself\u001b[0m\u001b[0;34m.\u001b[0m\u001b[0m_get_item_cache\u001b[0m\u001b[0;34m(\u001b[0m\u001b[0mkey\u001b[0m\u001b[0;34m)\u001b[0m\u001b[0;34m\u001b[0m\u001b[0m\n\u001b[0m\u001b[1;32m   2067\u001b[0m \u001b[0;34m\u001b[0m\u001b[0m\n\u001b[1;32m   2068\u001b[0m         \u001b[0;31m# duplicate columns & possible reduce dimensionality\u001b[0m\u001b[0;34m\u001b[0m\u001b[0;34m\u001b[0m\u001b[0m\n",
      "\u001b[0;32m/opt/conda/lib/python3.6/site-packages/pandas/core/generic.py\u001b[0m in \u001b[0;36m_get_item_cache\u001b[0;34m(self, item)\u001b[0m\n\u001b[1;32m   1382\u001b[0m         \u001b[0;34m\"\"\"Return the cached item, item represents a label indexer.\"\"\"\u001b[0m\u001b[0;34m\u001b[0m\u001b[0m\n\u001b[1;32m   1383\u001b[0m         \u001b[0mcache\u001b[0m \u001b[0;34m=\u001b[0m \u001b[0mself\u001b[0m\u001b[0;34m.\u001b[0m\u001b[0m_item_cache\u001b[0m\u001b[0;34m\u001b[0m\u001b[0m\n\u001b[0;32m-> 1384\u001b[0;31m         \u001b[0mres\u001b[0m \u001b[0;34m=\u001b[0m \u001b[0mcache\u001b[0m\u001b[0;34m.\u001b[0m\u001b[0mget\u001b[0m\u001b[0;34m(\u001b[0m\u001b[0mitem\u001b[0m\u001b[0;34m)\u001b[0m\u001b[0;34m\u001b[0m\u001b[0m\n\u001b[0m\u001b[1;32m   1385\u001b[0m         \u001b[0;32mif\u001b[0m \u001b[0mres\u001b[0m \u001b[0;32mis\u001b[0m \u001b[0;32mNone\u001b[0m\u001b[0;34m:\u001b[0m\u001b[0;34m\u001b[0m\u001b[0m\n\u001b[1;32m   1386\u001b[0m             \u001b[0mvalues\u001b[0m \u001b[0;34m=\u001b[0m \u001b[0mself\u001b[0m\u001b[0;34m.\u001b[0m\u001b[0m_data\u001b[0m\u001b[0;34m.\u001b[0m\u001b[0mget\u001b[0m\u001b[0;34m(\u001b[0m\u001b[0mitem\u001b[0m\u001b[0;34m)\u001b[0m\u001b[0;34m\u001b[0m\u001b[0m\n",
      "\u001b[0;31mTypeError\u001b[0m: unhashable type: 'slice'"
     ]
    },
    {
     "data": {
      "text/plain": [
       "<matplotlib.figure.Figure at 0x7fc20da76a90>"
      ]
     },
     "metadata": {},
     "output_type": "display_data"
    }
   ],
   "source": [
    "plt.figure(figsize=(10, 8))\n",
    "# plot only the Close price of 2016 of Microsoft, 1 line \n",
    "ms.truncate(before='2010-01-01', after='2021-01-01')['Adj Close'].plot(legend=True,figsize=(12,5))"
   ]
  },
  {
   "cell_type": "markdown",
   "metadata": {},
   "source": [
    "** Expected Ouput: **"
   ]
  },
  {
   "cell_type": "markdown",
   "metadata": {},
   "source": [
    "<img src=\"MS2016.png\">"
   ]
  },
  {
   "cell_type": "code",
   "execution_count": null,
   "metadata": {
    "collapsed": true
   },
   "outputs": [],
   "source": []
  }
 ],
 "metadata": {
  "kernelspec": {
   "display_name": "Python 3",
   "language": "python",
   "name": "python3"
  },
  "language_info": {
   "codemirror_mode": {
    "name": "ipython",
    "version": 3
   },
   "file_extension": ".py",
   "mimetype": "text/x-python",
   "name": "python",
   "nbconvert_exporter": "python",
   "pygments_lexer": "ipython3",
   "version": "3.6.2"
  }
 },
 "nbformat": 4,
 "nbformat_minor": 2
}
